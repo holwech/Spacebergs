{
 "cells": [
  {
   "cell_type": "code",
   "execution_count": 7,
   "metadata": {
    "collapsed": true
   },
   "outputs": [],
   "source": [
    "import pandas as pd # data processing, CSV file I/O (e.g. pd.read_csv)\n",
    "import numpy as np # linear algebra\n",
    "import scipy.io \n",
    "\n",
    "# gbm_scores = pd.read_csvc\n",
    "\n",
    "path = \"/home/emilal/Documents/Spacebergs/src/input\"\n",
    "num_pixels = scipy.io.loadmat(path + '/band1_numPixels.mat')\n",
    "\n",
    "num_pixels\n"
   ]
  },
  {
   "cell_type": "code",
   "execution_count": 14,
   "metadata": {},
   "outputs": [
    {
     "name": "stdout",
     "output_type": "stream",
     "text": [
      "__header__\n__version__\n__globals__\nband_pixels\n[[(array(['dfd5f913'],\n      dtype='<U8'), array([[2]], dtype=uint8))\n  (array(['e25388fd'],\n      dtype='<U8'), array([[67]], dtype=uint8))\n  (array(['58b2aaa0'],\n      dtype='<U8'), array([[3]], dtype=uint8)) ...,\n  (array(['bba1a0f1'],\n      dtype='<U8'), array([[64]], dtype=uint8))\n  (array(['7f66bb44'],\n      dtype='<U8'), array([[1]], dtype=uint8))\n  (array(['9d8f326c'],\n      dtype='<U8'), array([[3]], dtype=uint8))]]\n"
     ]
    }
   ],
   "source": [
    "print(num_pixels[\"band_pixels\"])"
   ]
  },
  {
   "cell_type": "code",
   "execution_count": null,
   "metadata": {},
   "outputs": [],
   "source": []
  }
 ],
 "metadata": {
  "kernelspec": {
   "display_name": "Python 2",
   "language": "python",
   "name": "python2"
  },
  "language_info": {
   "codemirror_mode": {
    "name": "ipython",
    "version": 2
   },
   "file_extension": ".py",
   "mimetype": "text/x-python",
   "name": "python",
   "nbconvert_exporter": "python",
   "pygments_lexer": "ipython2",
   "version": "2.7.6"
  }
 },
 "nbformat": 4,
 "nbformat_minor": 0
}
