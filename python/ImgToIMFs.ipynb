{
 "cells": [
  {
   "cell_type": "code",
   "execution_count": 1,
   "metadata": {},
   "outputs": [],
   "source": [
    "# Do some imports\n",
    "import numpy as np # linear algebra\n",
    "import pandas as pd # data processing, CSV file I/O (e.g. pd.read_csv)\n",
    "import matplotlib.pyplot as plt\n",
    "import matlab.engine\n",
    "\n",
    "\n",
    "\n",
    "# Load data and process data\n",
    "data_dir = \"../data/\""
   ]
  },
  {
   "cell_type": "code",
   "execution_count": 2,
   "metadata": {},
   "outputs": [],
   "source": [
    "#epsilon = 1\n",
    "#conn = '8m'\n",
    "numberimfs = 2\n",
    "eng = matlab.engine.start_matlab()"
   ]
  },
  {
   "cell_type": "code",
   "execution_count": 3,
   "metadata": {},
   "outputs": [],
   "source": [
    "def load_data(data_dir):\n",
    "    train = pd.read_json(data_dir+\"test.json\")\n",
    "    # Fill 'na' angles with zero\n",
    "    train.inc_angle = train.inc_angle.replace('na', 0)\n",
    "    train.inc_angle = train.inc_angle.astype(float).fillna(0.0)\n",
    "    return train\n",
    "\n",
    "train = load_data(data_dir)"
   ]
  },
  {
   "cell_type": "code",
   "execution_count": 4,
   "metadata": {},
   "outputs": [],
   "source": [
    "# Process data into images\n",
    "def process_images(df):\n",
    "    X_band1 = np.array([np.array(band).astype(np.float32).reshape(75, 75) for band in df[\"band_1\"]])\n",
    "    X_band2 = np.array([np.array(band).astype(np.float32).reshape(75, 75) for band in df[\"band_2\"]])\n",
    "    # Merge bands and add another band as the mean of Band 1 and Band 2 (useful for the ImageDataGenerator later)\n",
    "    imgs = np.concatenate([X_band1[:, :, :, np.newaxis]\n",
    "                            , X_band2[:, :, :, np.newaxis]\n",
    "                            ,((X_band1+X_band2)/2)[:, :, :, np.newaxis]], axis=-1)\n",
    "    return imgs\n",
    "\n",
    "X_train = process_images(train)"
   ]
  },
  {
   "cell_type": "code",
   "execution_count": 5,
   "metadata": {},
   "outputs": [],
   "source": [
    "# Calculate IMFs, residue, and medel(?) using matlab wrapper\n",
    "def IEMD(img, epsilon=0.1, numberimfs=4, conn='8m'):\n",
    "    matlab_arr = matlab.double(img.tolist())\n",
    "    matlab_imfs, matlab_residue, matlab_medel = eng.IEMD_public(matlab_arr, epsilon, numberimfs, conn, nargout=3) \n",
    "    \n",
    "    imfs = np.asarray(matlab_imfs)\n",
    "    residue = np.asarray(matlab_residue)\n",
    "    medel = np.asarray(matlab_medel)\n",
    "    return imfs, residue, medel"
   ]
  },
  {
   "cell_type": "code",
   "execution_count": 6,
   "metadata": {},
   "outputs": [],
   "source": [
    "# Create the columns in the pandas object for each IMF\n",
    "for band in range(1,3):\n",
    "    for imf in range(1,numberimfs + 1):\n",
    "        column_name = \"band_\" + str(band) + \"_imf_\" + str(imf)\n",
    "        #train[column_name] = np.nan\n",
    "        train[column_name] = np.empty((len(train), 0)).tolist()\n",
    "        #train[column_name] = np.zeros((75,75)).reshape(1, 75 * 75).tolist()"
   ]
  },
  {
   "cell_type": "code",
   "execution_count": 12,
   "metadata": {},
   "outputs": [],
   "source": [
    "# Calculate every IMF for every image\n",
    "from timeit import default_timer as timer\n",
    "def IMF_to_JSON(data):\n",
    "    num_img = len(data)\n",
    "    start_time = timer()\n",
    "    for i, images in enumerate(data):\n",
    "        band1_imf, _, _ = IEMD(images[:,:,0], 1, 2)\n",
    "        band2_imf, _, _ = IEMD(images[:,:,1], 1, 2)\n",
    "\n",
    "        for imf in range(numberimfs):\n",
    "            column_name_band1 = \"band_1_imf_\" + str(imf + 1)\n",
    "            column_name_band2 = \"band_2_imf_\" + str(imf + 1)\n",
    "            train.set_value(i, column_name_band1, band1_imf[:,:,imf].reshape(75 * 75).tolist())\n",
    "            train.set_value(i, column_name_band2, band2_imf[:,:,imf].reshape(75 * 75).tolist())\n",
    "\n",
    "        msg = \"Image \" + str(i) + \"/\" + str(num_img) + \" completed...\"\n",
    "        print (msg, end=\"\\r\")\n",
    "    print(\"Total run time: \" + str(timer() - start_time))\n",
    "    print(\"Saving to JSON...\")\n",
    "    train.to_json(\"../data/train_with_imfs.json\")\n",
    "    print(\"Done!\")"
   ]
  },
  {
   "cell_type": "code",
   "execution_count": null,
   "metadata": {},
   "outputs": [
    {
     "name": "stdout",
     "output_type": "stream",
     "text": [
      "Image 5009/8424 completed...\r"
     ]
    }
   ],
   "source": [
    "IMF_to_JSON(X_train)"
   ]
  },
  {
   "cell_type": "code",
   "execution_count": null,
   "metadata": {},
   "outputs": [],
   "source": []
  }
 ],
 "metadata": {
  "kernelspec": {
   "display_name": "Python 3",
   "language": "python",
   "name": "python3"
  },
  "language_info": {
   "codemirror_mode": {
    "name": "ipython",
    "version": 3
   },
   "file_extension": ".py",
   "mimetype": "text/x-python",
   "name": "python",
   "nbconvert_exporter": "python",
   "pygments_lexer": "ipython3",
   "version": "3.5.2"
  }
 },
 "nbformat": 4,
 "nbformat_minor": 2
}
