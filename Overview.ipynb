{
 "cells": [
  {
   "cell_type": "markdown",
   "metadata": {},
   "source": [
    "# Overview of methods used in Statoil TECHathlon"
   ]
  },
  {
   "cell_type": "markdown",
   "metadata": {},
   "source": [
    "## Methods used and who is working on it\n",
    "\n",
    "### Wavelet transform\n",
    "Use wavelet transform to see if it is possible to capture reflections from the sea\n",
    "\n",
    "### Neural network\n",
    "General classification\n",
    "\n",
    "### Imadjust & IEMD\n",
    "Image enhancement to bring forth edges\n",
    "\n",
    "### IEMD\n",
    "Frequency separation to remove image noise"
   ]
  },
  {
   "cell_type": "markdown",
   "metadata": {},
   "source": [
    "## Methods to check out\n",
    "### XGDBoost\n",
    "\n",
    "### Clustering\n",
    "\n",
    "### Analysis of the image brightness\n",
    "\n",
    "### "
   ]
  }
 ],
 "metadata": {
  "kernelspec": {
   "display_name": "Python 3",
   "language": "python",
   "name": "python3"
  },
  "language_info": {
   "codemirror_mode": {
    "name": "ipython",
    "version": 3
   },
   "file_extension": ".py",
   "mimetype": "text/x-python",
   "name": "python",
   "nbconvert_exporter": "python",
   "pygments_lexer": "ipython3",
   "version": "3.5.2"
  }
 },
 "nbformat": 4,
 "nbformat_minor": 2
}
